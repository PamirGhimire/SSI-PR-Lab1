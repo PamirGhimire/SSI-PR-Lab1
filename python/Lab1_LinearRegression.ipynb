{
 "cells": [
  {
   "cell_type": "code",
   "execution_count": 100,
   "metadata": {
    "collapsed": true
   },
   "outputs": [],
   "source": [
    "#Scene Segmentation and Interpretation\n",
    "#Lab1 : linear regression\n",
    "#Pamir Ghimire, MSCV 2016-2018, UBourgogne"
   ]
  },
  {
   "cell_type": "code",
   "execution_count": 101,
   "metadata": {
    "collapsed": false
   },
   "outputs": [],
   "source": [
    "#include some libraries\n",
    "import matplotlib.pyplot as plt\n",
    "import scipy as sp\n",
    "import numpy as np\n",
    "from numpy import linalg\n"
   ]
  },
  {
   "cell_type": "code",
   "execution_count": 102,
   "metadata": {
    "collapsed": false
   },
   "outputs": [],
   "source": [
    "#first, a function for visualizing data\n",
    "def plotData(x, y):\n",
    "    plt.figure()\n",
    "    plt.xlabel('Population of city in 10,000s')\n",
    "    plt.ylabel('Profit in $10,000s')\n",
    "    plt.title('Scatter plot of training data using plotData(x, y)')\n",
    "    plt.scatter(x, y)\n",
    "\n",
    "    plt.show()    \n"
   ]
  },
  {
   "cell_type": "code",
   "execution_count": 103,
   "metadata": {
    "collapsed": true
   },
   "outputs": [],
   "source": [
    "#a function for estimating parameters of a linear model y = w0 + w1 x\n",
    "#reference for linear algebra with numpy:\n",
    "#https://docs.scipy.org/doc/numpy/reference/routines.linalg.html#solving-equations-and-inverting-matrices\n",
    "\n",
    "def LinearReg(x, y):\n",
    "    #A = [1, x]\n",
    "    A = x\n",
    "    col0 = np.ones(A.shape[0])\n",
    "    A = np.column_stack([col0, A])\n",
    "\n",
    "    #as many parameters as number of columns in A\n",
    "    w = np.zeros(shape = [A.shape[1], ])\n",
    "\n",
    "    #estimate parameters using linear least squares\n",
    "    w = linalg.lstsq(A, y)[0]\n",
    "\n",
    "    return (w)\n",
    "    "
   ]
  },
  {
   "cell_type": "code",
   "execution_count": 104,
   "metadata": {
    "collapsed": true
   },
   "outputs": [],
   "source": [
    "#function for calculating profit with linear model obtained above\n",
    "def predictProfit(w, x):\n",
    "    X = [1, x/10000.00]\n",
    "    y = np.dot(X, w)\n",
    "    return(y*10000.00)"
   ]
  },
  {
   "cell_type": "code",
   "execution_count": 105,
   "metadata": {
    "collapsed": false
   },
   "outputs": [
    {
     "data": {
      "image/png": "[encoded data removed]",
      "text/plain": [
       "<matplotlib.figure.Figure at 0x7f708c127590>"
      ]
     },
     "metadata": {},
     "output_type": "display_data"
    }
   ],
   "source": [
    "#READ DATA1 FILE AND DISPLAY DATA USING SCATTER PLOT\n",
    "\n",
    "#read the text file lab1data1.txt\n",
    "data_mat = np.loadtxt(\"lab1data1.txt\", delimiter= \",\")\n",
    "\n",
    "#unpack the columns into variables x and y\n",
    "x = data_mat[:,0]\n",
    "y = data_mat[:,1]\n",
    "\n",
    "#pass x and y to plotting function for display\n",
    "plotData(x, y, )\n"
   ]
  },
  {
   "cell_type": "code",
   "execution_count": 106,
   "metadata": {
    "collapsed": false
   },
   "outputs": [
    {
     "name": "stdout",
     "output_type": "stream",
     "text": [
      "Expected profit for city with 35,000 people = $ 2798.36876352\n",
      "Expected profit for city with 70,000 people = $ 44554.5463102\n"
     ]
    }
   ],
   "source": [
    "#Use linear regression to find model parameters with the data in data1 file\n",
    "w = LinearReg(x, y)\n",
    "\n",
    "#now, make predictions on profit for two populations \n",
    "pop1 = 35000\n",
    "pop2 = 70000\n",
    "\n",
    "profit1 = predictProfit(w, pop1)\n",
    "profit2 = predictProfit(w, pop2)\n",
    "\n",
    "print 'Expected profit for city with 35,000 people = $', profit1\n",
    "print 'Expected profit for city with 70,000 people = $', profit2"
   ]
  },
  {
   "cell_type": "code",
   "execution_count": 107,
   "metadata": {
    "collapsed": false
   },
   "outputs": [],
   "source": [
    "#function for normalizing features\n",
    "def featureNormalize(x):\n",
    "    #we will return x_normalized\n",
    "    x_normalized = np.zeros(shape = x.shape)\n",
    "    \n",
    "    #as many means and standard deviations as columns\n",
    "    mu = np.zeros(x.shape[1])\n",
    "    sigma = np.zeros(x.shape[1])\n",
    "    \n",
    "    #for each column of x, xcol\n",
    "    for col in range(0, x.shape[1]):\n",
    "        colmean = x[:,col].mean()\n",
    "        colstd = x[:,col].std()\n",
    "        \n",
    "        #normalization: (feature - feature_mean)/feature_std\n",
    "        x_normalized[:,col] = (x[:,col] - colmean)/colstd\n",
    "        mu[col] = colmean\n",
    "        sigma[col] = colstd\n",
    "        \n",
    "            \n",
    "    #return the normalized features\n",
    "    return x_normalized, mu, sigma"
   ]
  },
  {
   "cell_type": "code",
   "execution_count": 108,
   "metadata": {
    "collapsed": false
   },
   "outputs": [
    {
     "name": "stdout",
     "output_type": "stream",
     "text": [
      "parameters from non-normalied features :  [ 89597.9095428     139.21067402  -8738.01911233]\n",
      "parameters from normalized-features    :  [ 340412.65957447  109447.79646964   -6578.35485416]\n"
     ]
    }
   ],
   "source": [
    "#work on the second dataset (2 features)\n",
    "#we will assume a linear model : \n",
    "#price = w0 + w1 * houseSize + w2 * nBedrooms\n",
    "\n",
    "housedata = np.loadtxt(\"lab1data2.txt\", delimiter= \",\")\n",
    "variables = housedata[:,0:2]\n",
    "values = housedata[:,2]\n",
    "\n",
    "#estimate parameters of linear model without feature normalization\n",
    "w_woNormalization = LinearReg(variables, values)\n",
    "print 'parameters from non-normalied features : ', w_woNormalization\n",
    "\n",
    "\n",
    "#normalize the variables and find parameters\n",
    "variables_n, mu, sigma = featureNormalize(variables)\n",
    "\n",
    "\n",
    "#estimate parameters with normalized features\n",
    "w_wNormalization = LinearReg(variables_n, values)\n",
    "print 'parameters from normalized-features    : ', w_wNormalization\n",
    "\n",
    "\n",
    "#Discussion on parameters:\n",
    "#We find different values of model parameters when we normalize and don't normalize features. \n",
    "#  We can notice that after normalization, the second parameter increased in magnitude significantly,\n",
    "#while the first parameter decreased by more than half. \n",
    "#  Hence, when making a prediction with the first model, the bias will be higher (i.e, a greater floor \n",
    "#price for the houses). On the other hand, effect of size of house on its price will be greater when \n",
    "#using the second model. We may say that the second set of parameters obtained after feature normalization\n",
    "#has a lower bias. \n"
   ]
  },
  {
   "cell_type": "code",
   "execution_count": 109,
   "metadata": {
    "collapsed": false
   },
   "outputs": [
    {
     "name": "stdout",
     "output_type": "stream",
     "text": [
      "price of test house using feature non-normalized model = $ [ 293081.4643349]\n",
      "price of test house using feature normalized model = $ [ 293081.4643349]\n"
     ]
    }
   ],
   "source": [
    "#making predictions about house price\n",
    "\n",
    "#prediction using features from non-normalized model\n",
    "test_houseSize = 1650\n",
    "test_nbedrooms = 3\n",
    "testHouse = np.column_stack([1.0, test_houseSize, test_nbedrooms])\n",
    "testHousePrice = np.dot(testHouse, w_woNormalization)\n",
    "\n",
    "print 'price of test house using feature non-normalized model = $', testHousePrice\n",
    "\n",
    "#normalize test data\n",
    "test_houseSize_n = (test_houseSize - mu[0])/sigma[0]\n",
    "test_nbedrooms_n = (test_nbedrooms - mu[1])/sigma[1]\n",
    "testHouse_n = np.column_stack([1.0, test_houseSize_n, test_nbedrooms_n])\n",
    "testHousePrice_n = np.dot(testHouse_n, w_wNormalization)\n",
    "\n",
    "print 'price of test house using feature normalized model = $', testHousePrice_n\n",
    "\n",
    "#We find the same predictions with feature normalized and feature non-normalized models!"
   ]
  },
  {
   "cell_type": "code",
   "execution_count": 110,
   "metadata": {
    "collapsed": false
   },
   "outputs": [],
   "source": [
    "#function for gradient descent\n",
    "def gradientDescent(x, y, w, alpha, Niter):\n",
    "    #augment the data matrix x to include a column of 1's\n",
    "    x_a = np.column_stack([np.ones(shape = x.shape[0],), x])\n",
    "    \n",
    "    #initialize a cost vector\n",
    "    cost = np.zeros(Niter)\n",
    "    \n",
    "    iterCounter = 0;\n",
    "    #for the stated number of iterations\n",
    "    while (iterCounter < Niter):\n",
    "        #estimate the cost function for current parameters w\n",
    "        cost[iterCounter] = (0.50/x_a.shape[0])*np.sum( np.square(np.dot(x_a, w) - y) )\n",
    "        \n",
    "        #for each parameter w\n",
    "        for i in range(0, len(w)):\n",
    "            #estimate gradient\n",
    "            delWi = (1.0/ x_a.shape[0]) * np.sum ( np.multiply( (np.dot(x_a, w) - y), x_a[:,i] ) )\n",
    "            #upgrade using estimated gradient\n",
    "            w[i] = w[i] - alpha*delWi\n",
    "    \n",
    "    \n",
    "        #increment the iterCounter\n",
    "        iterCounter = iterCounter + 1\n",
    "    \n",
    "    #return the parameters and the evolution of costs over iterations\n",
    "    return w, cost"
   ]
  },
  {
   "cell_type": "code",
   "execution_count": 111,
   "metadata": {
    "collapsed": false
   },
   "outputs": [
    {
     "name": "stdout",
     "output_type": "stream",
     "text": [
      "Price of house estimated with normalized features and parameters from gradient descent = $ [ 293081.46640299]\n",
      "For comparison: previously estimated price with normalized features = $  [ 293081.4643349]\n"
     ]
    },
    {
     "data": {
      "image/png": "[encoded data removed]",
      "text/plain": [
       "<matplotlib.figure.Figure at 0x7f708c0a6450>"
      ]
     },
     "metadata": {},
     "output_type": "display_data"
    }
   ],
   "source": [
    "alpha = 0.3\n",
    "nIter = 100\n",
    "w_nGraDescent, cost = gradientDescent(variables_n, values, [0.0,0.0,0.0], alpha, nIter)\n",
    "\n",
    "#estimate price of house with normalized features (same as those computed before)\n",
    "testHousePrice_nGraDescent = np.dot(testHouse_n, w_nGraDescent)\n",
    "\n",
    "print 'Price of house estimated with normalized features and parameters from gradient descent = $', testHousePrice_nGraDescent\n",
    "print 'For comparison: previously estimated price with normalized features = $ ', testHousePrice_n\n",
    "plt.plot(range(0, nIter), cost)\n",
    "plt.xlabel('iteration count')\n",
    "plt.ylabel('value of cost function')\n",
    "plt.title('Evolution of cost with gradient desent iterations')\n",
    "plt.show()\n",
    "\n"
   ]
  }
 ],
 "metadata": {
  "anaconda-cloud": {},
  "kernelspec": {
   "display_name": "Python [conda env:py27]",
   "language": "python",
   "name": "conda-env-py27-py"
  },
  "language_info": {
   "codemirror_mode": {
    "name": "ipython",
    "version": 2
   },
   "file_extension": ".py",
   "mimetype": "text/x-python",
   "name": "python",
   "nbconvert_exporter": "python",
   "pygments_lexer": "ipython2",
   "version": "2.7.12"
  }
 },
 "nbformat": 4,
 "nbformat_minor": 1
}
